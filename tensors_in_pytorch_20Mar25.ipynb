{
  "nbformat": 4,
  "nbformat_minor": 0,
  "metadata": {
    "colab": {
      "provenance": [],
      "authorship_tag": "ABX9TyNrWbcBsPgtCzEWuCZCrJe+",
      "include_colab_link": true
    },
    "kernelspec": {
      "name": "python3",
      "display_name": "Python 3"
    },
    "language_info": {
      "name": "python"
    }
  },
  "cells": [
    {
      "cell_type": "markdown",
      "metadata": {
        "id": "view-in-github",
        "colab_type": "text"
      },
      "source": [
        "<a href=\"https://colab.research.google.com/github/Talha1818/PyTorch/blob/master/tensors_in_pytorch_20Mar25.ipynb\" target=\"_parent\"><img src=\"https://colab.research.google.com/assets/colab-badge.svg\" alt=\"Open In Colab\"/></a>"
      ]
    },
    {
      "cell_type": "code",
      "execution_count": null,
      "metadata": {
        "colab": {
          "base_uri": "https://localhost:8080/"
        },
        "id": "8om6soMQodsO",
        "outputId": "0860d9cf-5bfc-4863-f402-230e4dcbf124"
      },
      "outputs": [
        {
          "output_type": "stream",
          "name": "stdout",
          "text": [
            "2.6.0+cu124\n"
          ]
        }
      ],
      "source": [
        "import torch\n",
        "print(torch.__version__)"
      ]
    },
    {
      "cell_type": "code",
      "source": [
        "if torch.cuda.is_available():\n",
        "    print(f\"GPU is available: Using GPU {torch.cuda.get_device_name(0)}\")\n",
        "else:\n",
        "    print(\"GPU not available: Using CPU\")"
      ],
      "metadata": {
        "colab": {
          "base_uri": "https://localhost:8080/"
        },
        "id": "8YZXWllwpS2P",
        "outputId": "c2d04a58-e3be-4d94-e467-48eba26ec25e"
      },
      "execution_count": null,
      "outputs": [
        {
          "output_type": "stream",
          "name": "stdout",
          "text": [
            "GPU not available: Using CPU\n"
          ]
        }
      ]
    },
    {
      "cell_type": "markdown",
      "source": [
        "# Creating a Tensors"
      ],
      "metadata": {
        "id": "Fh0ZhlVdp5sF"
      }
    },
    {
      "cell_type": "code",
      "source": [
        "# using empty\n",
        "x = torch.empty(2,3)\n",
        "x"
      ],
      "metadata": {
        "colab": {
          "base_uri": "https://localhost:8080/"
        },
        "id": "UVYjoGcLpo1g",
        "outputId": "726c1c6f-5512-47b7-8f3e-eaf2a64d26cf"
      },
      "execution_count": null,
      "outputs": [
        {
          "output_type": "execute_result",
          "data": {
            "text/plain": [
              "tensor([[-1.3725e-08,  4.5081e-41,  1.4474e-33],\n",
              "        [ 0.0000e+00,  4.4842e-44,  0.0000e+00]])"
            ]
          },
          "metadata": {},
          "execution_count": 5
        }
      ]
    },
    {
      "cell_type": "code",
      "source": [
        "# check type\n",
        "type(x)"
      ],
      "metadata": {
        "colab": {
          "base_uri": "https://localhost:8080/"
        },
        "id": "Z0TVzIdirCd2",
        "outputId": "a8f84d0d-ffa4-4b68-f426-9bdfc3fb3c29"
      },
      "execution_count": null,
      "outputs": [
        {
          "output_type": "execute_result",
          "data": {
            "text/plain": [
              "torch.Tensor"
            ]
          },
          "metadata": {},
          "execution_count": 6
        }
      ]
    },
    {
      "cell_type": "code",
      "source": [
        "# using zeros\n",
        "x = torch.zeros(2,3)\n",
        "x"
      ],
      "metadata": {
        "colab": {
          "base_uri": "https://localhost:8080/"
        },
        "id": "loNMxUnXrF1u",
        "outputId": "fc7a4985-2bbf-4dc5-ef2d-421a2a3f6ff1"
      },
      "execution_count": null,
      "outputs": [
        {
          "output_type": "execute_result",
          "data": {
            "text/plain": [
              "tensor([[0., 0., 0.],\n",
              "        [0., 0., 0.]])"
            ]
          },
          "metadata": {},
          "execution_count": 7
        }
      ]
    },
    {
      "cell_type": "code",
      "source": [
        "# using ones\n",
        "x = torch.ones(2,3)\n",
        "x"
      ],
      "metadata": {
        "colab": {
          "base_uri": "https://localhost:8080/"
        },
        "id": "5g9TyjG0rJaD",
        "outputId": "27486dff-e0c8-444b-a3ad-40966e923ba5"
      },
      "execution_count": null,
      "outputs": [
        {
          "output_type": "execute_result",
          "data": {
            "text/plain": [
              "tensor([[1., 1., 1.],\n",
              "        [1., 1., 1.]])"
            ]
          },
          "metadata": {},
          "execution_count": 8
        }
      ]
    },
    {
      "cell_type": "code",
      "source": [
        "# using rand\n",
        "x = torch.rand(2,3)\n",
        "x"
      ],
      "metadata": {
        "colab": {
          "base_uri": "https://localhost:8080/"
        },
        "id": "kb3K6AEPrLEU",
        "outputId": "fca2f1d4-0c03-404e-b2ff-ef0cf825a9de"
      },
      "execution_count": null,
      "outputs": [
        {
          "output_type": "execute_result",
          "data": {
            "text/plain": [
              "tensor([[0.1295, 0.2777, 0.3039],\n",
              "        [0.4123, 0.3568, 0.5290]])"
            ]
          },
          "metadata": {},
          "execution_count": 9
        }
      ]
    },
    {
      "cell_type": "code",
      "source": [
        "# using rand\n",
        "x = torch.rand(2,3)\n",
        "x"
      ],
      "metadata": {
        "colab": {
          "base_uri": "https://localhost:8080/"
        },
        "id": "0Km_lyp6rR4l",
        "outputId": "dd5057b1-9579-4fc5-cee5-f40c40361798"
      },
      "execution_count": null,
      "outputs": [
        {
          "output_type": "execute_result",
          "data": {
            "text/plain": [
              "tensor([[0.6176, 0.5764, 0.1547],\n",
              "        [0.3190, 0.4678, 0.2417]])"
            ]
          },
          "metadata": {},
          "execution_count": 10
        }
      ]
    },
    {
      "cell_type": "code",
      "source": [
        "# using manual seed\n",
        "torch.manual_seed(1)\n",
        "x = torch.rand(2,3)\n",
        "x"
      ],
      "metadata": {
        "colab": {
          "base_uri": "https://localhost:8080/"
        },
        "id": "uFamKp9YrN5Z",
        "outputId": "c488ad3b-be71-48d2-9e67-915a38fdb375"
      },
      "execution_count": null,
      "outputs": [
        {
          "output_type": "execute_result",
          "data": {
            "text/plain": [
              "tensor([[0.7576, 0.2793, 0.4031],\n",
              "        [0.7347, 0.0293, 0.7999]])"
            ]
          },
          "metadata": {},
          "execution_count": 11
        }
      ]
    },
    {
      "cell_type": "code",
      "source": [
        "# using manual seed\n",
        "torch.manual_seed(1)\n",
        "x = torch.rand(2,3)\n",
        "x"
      ],
      "metadata": {
        "colab": {
          "base_uri": "https://localhost:8080/"
        },
        "id": "WIidEV20rUu8",
        "outputId": "a7e2dda8-8300-4bc5-fe15-a247842cf529"
      },
      "execution_count": null,
      "outputs": [
        {
          "output_type": "execute_result",
          "data": {
            "text/plain": [
              "tensor([[0.7576, 0.2793, 0.4031],\n",
              "        [0.7347, 0.0293, 0.7999]])"
            ]
          },
          "metadata": {},
          "execution_count": 12
        }
      ]
    },
    {
      "cell_type": "code",
      "source": [
        "# using tensors\n",
        "x = torch.tensor([[1,2,3],[3,4,5]])\n",
        "x"
      ],
      "metadata": {
        "colab": {
          "base_uri": "https://localhost:8080/"
        },
        "id": "h_SCNcYBrVs5",
        "outputId": "e6c010fc-a936-4884-ecf7-71204d47bc55"
      },
      "execution_count": null,
      "outputs": [
        {
          "output_type": "execute_result",
          "data": {
            "text/plain": [
              "tensor([[1, 2, 3],\n",
              "        [3, 4, 5]])"
            ]
          },
          "metadata": {},
          "execution_count": 14
        }
      ]
    },
    {
      "cell_type": "code",
      "source": [
        "# arange\n",
        "print(\"using arange ->\", torch.arange(0,10,2))\n",
        "\n",
        "# using linspace\n",
        "print(\"using linspace ->\", torch.linspace(0,10,10))\n",
        "\n",
        "# using eye\n",
        "print(\"using eye ->\", torch.eye(5))\n",
        "\n",
        "# using full\n",
        "print(\"using full ->\", torch.full((3, 3), 5))"
      ],
      "metadata": {
        "colab": {
          "base_uri": "https://localhost:8080/"
        },
        "id": "SMHHamzSrZVT",
        "outputId": "452ddb3c-f73e-4dfb-b8ca-3fc14136d640"
      },
      "execution_count": null,
      "outputs": [
        {
          "output_type": "stream",
          "name": "stdout",
          "text": [
            "using arange -> tensor([0, 2, 4, 6, 8])\n",
            "using linspace -> tensor([ 0.0000,  1.1111,  2.2222,  3.3333,  4.4444,  5.5556,  6.6667,  7.7778,\n",
            "         8.8889, 10.0000])\n",
            "using eye -> tensor([[1., 0., 0., 0., 0.],\n",
            "        [0., 1., 0., 0., 0.],\n",
            "        [0., 0., 1., 0., 0.],\n",
            "        [0., 0., 0., 1., 0.],\n",
            "        [0., 0., 0., 0., 1.]])\n",
            "using full -> tensor([[5, 5, 5],\n",
            "        [5, 5, 5],\n",
            "        [5, 5, 5]])\n"
          ]
        }
      ]
    },
    {
      "cell_type": "markdown",
      "source": [
        "#Check Shapes of Tensors"
      ],
      "metadata": {
        "id": "_CEkuBpPsm7u"
      }
    },
    {
      "cell_type": "code",
      "source": [
        "x = torch.tensor([[1,2,3],[4,5,6]])\n",
        "x"
      ],
      "metadata": {
        "colab": {
          "base_uri": "https://localhost:8080/"
        },
        "id": "6cDfGoBKrepH",
        "outputId": "02af2ca7-429c-40ca-9b26-5b423762faed"
      },
      "execution_count": null,
      "outputs": [
        {
          "output_type": "execute_result",
          "data": {
            "text/plain": [
              "tensor([[1, 2, 3],\n",
              "        [4, 5, 6]])"
            ]
          },
          "metadata": {},
          "execution_count": 16
        }
      ]
    },
    {
      "cell_type": "code",
      "source": [
        "x.shape"
      ],
      "metadata": {
        "colab": {
          "base_uri": "https://localhost:8080/"
        },
        "id": "uCKajVVXswms",
        "outputId": "0792e7e7-6ea6-412d-8db0-a0bf751a57a1"
      },
      "execution_count": null,
      "outputs": [
        {
          "output_type": "execute_result",
          "data": {
            "text/plain": [
              "torch.Size([2, 3])"
            ]
          },
          "metadata": {},
          "execution_count": 17
        }
      ]
    },
    {
      "cell_type": "code",
      "source": [
        "a  = torch.empty_like(x)\n",
        "b = torch.zeros_like(x)\n",
        "c = torch.ones_like(x)\n",
        "d = torch.rand_like(x, dtype=torch.float)\n",
        "\n",
        "print(\"empty like: \\n\", a)\n",
        "print(\"zeros like: \\n\", b)\n",
        "print(\"ones like: \\n\", c)\n",
        "print(\"rand like: \\n\", d)"
      ],
      "metadata": {
        "colab": {
          "base_uri": "https://localhost:8080/"
        },
        "id": "V8l13HDzsx-O",
        "outputId": "ebd0b2f1-65c8-45b0-9de8-f045c51487e5"
      },
      "execution_count": null,
      "outputs": [
        {
          "output_type": "stream",
          "name": "stdout",
          "text": [
            "empty like: \n",
            " tensor([[              0,              81,       173165936],\n",
            "        [138176386288928,               0,               0]])\n",
            "zeros like: \n",
            " tensor([[0, 0, 0],\n",
            "        [0, 0, 0]])\n",
            "ones like: \n",
            " tensor([[1, 1, 1],\n",
            "        [1, 1, 1]])\n",
            "rand like: \n",
            " tensor([[0.6826, 0.3051, 0.4635],\n",
            "        [0.4550, 0.5725, 0.4980]])\n"
          ]
        }
      ]
    },
    {
      "cell_type": "markdown",
      "source": [
        "# Check Data Types of Tensors"
      ],
      "metadata": {
        "id": "qqRAWu1OtXzw"
      }
    },
    {
      "cell_type": "code",
      "source": [
        "# find data type\n",
        "x.dtype"
      ],
      "metadata": {
        "colab": {
          "base_uri": "https://localhost:8080/"
        },
        "id": "YALcqncEtK19",
        "outputId": "fa19d930-4bcf-4e6a-bb3a-6bd1fe81c627"
      },
      "execution_count": null,
      "outputs": [
        {
          "output_type": "execute_result",
          "data": {
            "text/plain": [
              "torch.int64"
            ]
          },
          "metadata": {},
          "execution_count": 21
        }
      ]
    },
    {
      "cell_type": "code",
      "source": [
        "# assign data type\n",
        "a = torch.tensor([1.0,2.0,3.0], dtype=torch.int32)\n",
        "b = torch.tensor([1.0,2.0,3.0], dtype=torch.float32)\n",
        "c = torch.tensor([1.0,2.0,3.0], dtype=torch.double)\n",
        "print(a.dtype,\":\", a)\n",
        "print(b.dtype,\":\", b)\n",
        "print(c.dtype,\":\", c)"
      ],
      "metadata": {
        "colab": {
          "base_uri": "https://localhost:8080/"
        },
        "id": "IiyjB5rNtdAF",
        "outputId": "5d0bb48f-df17-49bd-88d3-a26fc2481478"
      },
      "execution_count": null,
      "outputs": [
        {
          "output_type": "stream",
          "name": "stdout",
          "text": [
            "torch.int32 : tensor([1, 2, 3], dtype=torch.int32)\n",
            "torch.float32 : tensor([1., 2., 3.])\n",
            "torch.float64 : tensor([1., 2., 3.], dtype=torch.float64)\n"
          ]
        }
      ]
    },
    {
      "cell_type": "code",
      "source": [
        "x.dtype"
      ],
      "metadata": {
        "colab": {
          "base_uri": "https://localhost:8080/"
        },
        "id": "ahz1eAkitjGz",
        "outputId": "1b1373a1-e9f4-4e07-f5d6-0e5600d03bd7"
      },
      "execution_count": null,
      "outputs": [
        {
          "output_type": "execute_result",
          "data": {
            "text/plain": [
              "torch.int64"
            ]
          },
          "metadata": {},
          "execution_count": 28
        }
      ]
    },
    {
      "cell_type": "code",
      "source": [
        "# using to()\n",
        "x.to(torch.float32)"
      ],
      "metadata": {
        "colab": {
          "base_uri": "https://localhost:8080/"
        },
        "id": "hwPvo7UDt6_x",
        "outputId": "358d57d7-9983-4151-eeca-76d6679a8a9b"
      },
      "execution_count": null,
      "outputs": [
        {
          "output_type": "execute_result",
          "data": {
            "text/plain": [
              "tensor([[1., 2., 3.],\n",
              "        [4., 5., 6.]])"
            ]
          },
          "metadata": {},
          "execution_count": 30
        }
      ]
    },
    {
      "cell_type": "markdown",
      "source": [
        "| **Data Type**             | **Dtype**         | **Description**                                                                                                                                                                |\n",
        "|---------------------------|-------------------|--------------------------------------------------------------------------------------------------------------------------------------------------------------------------------|\n",
        "| **32-bit Floating Point** | `torch.float32`   | Standard floating-point type used for most deep learning tasks. Provides a balance between precision and memory usage.                                                         |\n",
        "| **64-bit Floating Point** | `torch.float64`   | Double-precision floating point. Useful for high-precision numerical tasks but uses more memory.                                                                               |\n",
        "| **16-bit Floating Point** | `torch.float16`   | Half-precision floating point. Commonly used in mixed-precision training to reduce memory and computational overhead on modern GPUs.                                            |\n",
        "| **BFloat16**              | `torch.bfloat16`  | Brain floating-point format with reduced precision compared to `float16`. Used in mixed-precision training, especially on TPUs.                                                |\n",
        "| **8-bit Floating Point**  | `torch.float8`    | Ultra-low-precision floating point. Used for experimental applications and extreme memory-constrained environments (less common).                                               |\n",
        "| **8-bit Integer**         | `torch.int8`      | 8-bit signed integer. Used for quantized models to save memory and computation in inference.                                                                                   |\n",
        "| **16-bit Integer**        | `torch.int16`     | 16-bit signed integer. Useful for special numerical tasks requiring intermediate precision.                                                                                    |\n",
        "| **32-bit Integer**        | `torch.int32`     | Standard signed integer type. Commonly used for indexing and general-purpose numerical tasks.                                                                                  |\n",
        "| **64-bit Integer**        | `torch.int64`     | Long integer type. Often used for large indexing arrays or for tasks involving large numbers.                                                                                  |\n",
        "| **8-bit Unsigned Integer**| `torch.uint8`     | 8-bit unsigned integer. Commonly used for image data (e.g., pixel values between 0 and 255).                                                                                    |\n",
        "| **Boolean**               | `torch.bool`      | Boolean type, stores `True` or `False` values. Often used for masks in logical operations.                                                                                      |\n",
        "| **Complex 64**            | `torch.complex64` | Complex number type with 32-bit real and 32-bit imaginary parts. Used for scientific and signal processing tasks.                                                               |\n",
        "| **Complex 128**           | `torch.complex128`| Complex number type with 64-bit real and 64-bit imaginary parts. Offers higher precision but uses more memory.                                                                 |\n",
        "| **Quantized Integer**     | `torch.qint8`     | Quantized signed 8-bit integer. Used in quantized models for efficient inference.                                                                                              |\n",
        "| **Quantized Unsigned Integer** | `torch.quint8` | Quantized unsigned 8-bit integer. Often used for quantized tensors in image-related tasks.                                                                                     |\n"
      ],
      "metadata": {
        "id": "Gg4raQQVuBjj"
      }
    },
    {
      "cell_type": "markdown",
      "source": [
        "# Mathematical Operations"
      ],
      "metadata": {
        "id": "QUOv4ie_u8Pq"
      }
    },
    {
      "cell_type": "code",
      "source": [
        "x = torch.rand(2,2)\n",
        "x"
      ],
      "metadata": {
        "colab": {
          "base_uri": "https://localhost:8080/"
        },
        "id": "nrkk_g2et8_o",
        "outputId": "740d4b69-1ff5-4a4a-8fc5-7aba25b34204"
      },
      "execution_count": null,
      "outputs": [
        {
          "output_type": "execute_result",
          "data": {
            "text/plain": [
              "tensor([[0.9371, 0.6556],\n",
              "        [0.3138, 0.1980]])"
            ]
          },
          "metadata": {},
          "execution_count": 31
        }
      ]
    },
    {
      "cell_type": "code",
      "source": [
        "# addition\n",
        "x + 2\n",
        "# substraction\n",
        "x - 2\n",
        "# multiplication\n",
        "x * 3\n",
        "# division\n",
        "x / 3\n",
        "# int division\n",
        "(x * 100)//3\n",
        "# mod\n",
        "((x * 100)//3)%2\n",
        "# power\n",
        "x**2"
      ],
      "metadata": {
        "colab": {
          "base_uri": "https://localhost:8080/"
        },
        "id": "qY87BKX2vFuZ",
        "outputId": "5eada498-78f6-4b91-a0ed-6f31906cca13"
      },
      "execution_count": null,
      "outputs": [
        {
          "output_type": "execute_result",
          "data": {
            "text/plain": [
              "tensor([[0.8781, 0.4298],\n",
              "        [0.0985, 0.0392]])"
            ]
          },
          "metadata": {},
          "execution_count": 32
        }
      ]
    },
    {
      "cell_type": "code",
      "source": [
        "a = torch.rand(2,3)\n",
        "b = torch.rand(2,3)\n",
        "\n",
        "print(a)\n",
        "print(b)"
      ],
      "metadata": {
        "colab": {
          "base_uri": "https://localhost:8080/"
        },
        "id": "IIyoyUAXvIql",
        "outputId": "d0ceaad3-465b-4704-d37a-6827b1379b99"
      },
      "execution_count": null,
      "outputs": [
        {
          "output_type": "stream",
          "name": "stdout",
          "text": [
            "tensor([[0.4162, 0.2843, 0.3398],\n",
            "        [0.5239, 0.7981, 0.7718]])\n",
            "tensor([[0.0112, 0.8100, 0.6397],\n",
            "        [0.9743, 0.8300, 0.0444]])\n"
          ]
        }
      ]
    },
    {
      "cell_type": "code",
      "source": [
        "# add\n",
        "a + b\n",
        "# sub\n",
        "a - b\n",
        "# multiply\n",
        "a * b\n",
        "# division\n",
        "a / b\n",
        "# power\n",
        "a ** b\n",
        "# mod\n",
        "a % b"
      ],
      "metadata": {
        "colab": {
          "base_uri": "https://localhost:8080/"
        },
        "id": "jZ1ba3btvKrJ",
        "outputId": "e1427092-e59f-4e63-84d6-639b88e4e97f"
      },
      "execution_count": null,
      "outputs": [
        {
          "output_type": "execute_result",
          "data": {
            "text/plain": [
              "tensor([[0.0009, 0.2843, 0.3398],\n",
              "        [0.5239, 0.7981, 0.0164]])"
            ]
          },
          "metadata": {},
          "execution_count": 34
        }
      ]
    },
    {
      "cell_type": "code",
      "source": [
        "c = torch.tensor([1, -2, 3, -4])"
      ],
      "metadata": {
        "id": "dK_fxT3uvMC4"
      },
      "execution_count": null,
      "outputs": []
    },
    {
      "cell_type": "code",
      "source": [
        "# abs\n",
        "a = torch.abs(c)\n",
        "# negative\n",
        "b = torch.neg(c)\n",
        "\n",
        "print(\"absolute:\", a)\n",
        "print(\"negative:\", b)\n",
        "\n",
        "d = torch.tensor([1.9, 2.3, 3.7, 4.4])\n",
        "\n",
        "# round\n",
        "a = torch.round(d)\n",
        "# ceil\n",
        "b = torch.ceil(d)\n",
        "# floor\n",
        "c = torch.floor(d)\n",
        "# clamp\n",
        "d = torch.clamp(d, min=2, max=3)\n",
        "\n",
        "print(\"round:\", a)\n",
        "print(\"ceil:\", b)\n",
        "print(\"floor:\", c)\n",
        "print(\"clamp:\", d)"
      ],
      "metadata": {
        "colab": {
          "base_uri": "https://localhost:8080/"
        },
        "id": "bWE885LwvNor",
        "outputId": "63d08eb7-9017-4eca-b409-de428177efc6"
      },
      "execution_count": null,
      "outputs": [
        {
          "output_type": "stream",
          "name": "stdout",
          "text": [
            "absolute: tensor([1, 2, 3, 4])\n",
            "negative: tensor([-1,  2, -3,  4])\n",
            "round: tensor([2., 2., 4., 4.])\n",
            "ceil: tensor([2., 3., 4., 5.])\n",
            "floor: tensor([1., 2., 3., 4.])\n",
            "clamp: tensor([2.0000, 2.3000, 3.0000, 3.0000])\n"
          ]
        }
      ]
    },
    {
      "cell_type": "code",
      "source": [
        "e = torch.randint(size=(2,3), low=0, high=10, dtype=torch.float32)\n",
        "e"
      ],
      "metadata": {
        "colab": {
          "base_uri": "https://localhost:8080/"
        },
        "id": "7pwAXphovnOa",
        "outputId": "9b1a72ef-556e-44f7-82ef-a3003030c8ea"
      },
      "execution_count": null,
      "outputs": [
        {
          "output_type": "execute_result",
          "data": {
            "text/plain": [
              "tensor([[5., 9., 5.],\n",
              "        [3., 3., 5.]])"
            ]
          },
          "metadata": {},
          "execution_count": 41
        }
      ]
    },
    {
      "cell_type": "code",
      "source": [
        "# sum\n",
        "a = torch.sum(e)\n",
        "# sum along columns\n",
        "b = torch.sum(e, dim=0)\n",
        "# sum along rows\n",
        "c = torch.sum(e, dim=1)\n",
        "\n",
        "# mean\n",
        "d = torch.mean(e)\n",
        "# mean along col\n",
        "ee = torch.mean(e, dim=0)\n",
        "\n",
        "# median\n",
        "f = torch.median(e)\n",
        "\n",
        "# max and min\n",
        "g = torch.max(e)\n",
        "h = torch.min(e)\n",
        "\n",
        "# product\n",
        "i = torch.prod(e)\n",
        "\n",
        "# standard deviation\n",
        "j = torch.std(e)\n",
        "\n",
        "# variance\n",
        "k = torch.var(e)\n",
        "\n",
        "# argmax\n",
        "l = torch.argmax(e)\n",
        "\n",
        "# argmin\n",
        "m = torch.argmin(e)\n",
        "\n",
        "print(\"sum:\", a)\n",
        "print(\"sum along columns:\", b)\n",
        "print(\"sum along rows:\", c)\n",
        "print(\"mean:\", d)\n",
        "print(\"mean along columns:\", ee)\n",
        "print(\"median:\", f)\n",
        "print(\"max:\", g)\n",
        "print(\"min:\", h)\n",
        "print(\"product:\", i)\n",
        "print(\"standard deviation:\", j)\n",
        "print(\"variance:\", k)\n",
        "print(\"argmax:\", l)\n",
        "print(\"argmin:\", m)"
      ],
      "metadata": {
        "colab": {
          "base_uri": "https://localhost:8080/"
        },
        "id": "QqLJRpxdwVY5",
        "outputId": "a6e0ef80-41c6-452a-cb21-4b0be874e66c"
      },
      "execution_count": null,
      "outputs": [
        {
          "output_type": "stream",
          "name": "stdout",
          "text": [
            "sum: tensor(30.)\n",
            "sum along columns: tensor([ 8., 12., 10.])\n",
            "sum along rows: tensor([19., 11.])\n",
            "mean: tensor(5.)\n",
            "mean along columns: tensor([4., 6., 5.])\n",
            "median: tensor(5.)\n",
            "max: tensor(9.)\n",
            "min: tensor(3.)\n",
            "product: tensor(10125.)\n",
            "standard deviation: tensor(2.1909)\n",
            "variance: tensor(4.8000)\n",
            "argmax: tensor(1)\n",
            "argmin: tensor(3)\n"
          ]
        }
      ]
    },
    {
      "cell_type": "code",
      "source": [],
      "metadata": {
        "id": "ShqF_HetwdXn"
      },
      "execution_count": null,
      "outputs": []
    }
  ]
}